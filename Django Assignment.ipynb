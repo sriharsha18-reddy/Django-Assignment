{
 "cells": [
  {
   "cell_type": "markdown",
   "metadata": {},
   "source": [
    "Topic: Django Signals\n",
    "\n",
    "Question 1 : By default are django signals executed synchronously or asynchronously? \n",
    "           Please support your answer with a code snippet that conclusively proves your stance.\n",
    "           The code does not need to be elegant and production ready, we just need to understand your logic ."
   ]
  },
  {
   "cell_type": "markdown",
   "metadata": {},
   "source": [
    "Answer : By default, Django signals are executed synchronously. This means that when a signal is sent, the code that handles the signal is executed immediately and blocks the execution of subsequent code until the signal handler finishes."
   ]
  },
  {
   "cell_type": "code",
   "execution_count": null,
   "metadata": {},
   "outputs": [],
   "source": [
    "from django.db.models.signals import post_save\n",
    "from django.dispatch import receiver\n",
    "from django.http import HttpResponse\n",
    "from .models import MyModel\n",
    "import time\n",
    "\n",
    "# Signal handler\n",
    "@receiver(post_save, sender=MyModel)\n",
    "def my_signal_handler(sender, instance, **kwargs):\n",
    "    time.sleep(3)  # Simulate delay\n",
    "    print(\"Signal handled.\")\n",
    "\n",
    "# View triggering the signal\n",
    "def my_view(request):\n",
    "    MyModel.objects.create(name=\"Test\")\n",
    "    return HttpResponse(\"Signal triggered, response delayed if synchronous.\")\n"
   ]
  },
  {
   "cell_type": "markdown",
   "metadata": {},
   "source": [
    "Question 2 : Do django signals run in the same thread as the caller? \n",
    "             Please support your answer with a code snippet that conclusively proves your stance.\n",
    "             The code does not need to be elegant and production ready, we just need to understand your logic.\n"
   ]
  },
  {
   "cell_type": "markdown",
   "metadata": {},
   "source": [
    "Answer : Yes, Django signals run in the same thread as the caller by default. This means when a signal is triggered, it is handled in the same execution thread as the function that sent the signal."
   ]
  },
  {
   "cell_type": "code",
   "execution_count": null,
   "metadata": {},
   "outputs": [],
   "source": [
    "import threading\n",
    "from django.db.models.signals import post_save\n",
    "from django.dispatch import receiver\n",
    "from .models import MyModel\n",
    "from django.http import HttpResponse\n",
    "\n",
    "# Signal handler\n",
    "@receiver(post_save, sender=MyModel)\n",
    "def my_signal_handler(sender, instance, **kwargs):\n",
    "    print(f\"Signal handled in thread: {threading.current_thread().name}\")\n",
    "\n",
    "# View triggering the signal\n",
    "def my_view(request):\n",
    "    print(f\"View running in thread: {threading.current_thread().name}\")\n",
    "    MyModel.objects.create(name=\"Test\")\n",
    "    return HttpResponse(\"Check console for thread info.\")"
   ]
  },
  {
   "cell_type": "markdown",
   "metadata": {},
   "source": [
    "Question 3 : By default do django signals run in the same database transaction as the caller?\n",
    "             Please support your answer with a code snippet that conclusively proves your stance.\n",
    "             The code does not need to be elegant and production ready, we just need to understand your logic.\n"
   ]
  },
  {
   "cell_type": "markdown",
   "metadata": {},
   "source": [
    "Answer : By default, Django signals do not necessarily run in the same database transaction as the caller. This depends on when the signal is sent relative to the transaction lifecycle. For example, the post_save signal is sent after the object is saved to the database, but if it's part of a larger transaction (e.g., inside an atomic() block), the signal may run before the entire transaction is committed."
   ]
  },
  {
   "cell_type": "code",
   "execution_count": null,
   "metadata": {},
   "outputs": [],
   "source": [
    "from django.db import transaction\n",
    "from django.db.models.signals import post_save\n",
    "from django.dispatch import receiver\n",
    "from django.http import HttpResponse\n",
    "from .models import MyModel\n",
    "\n",
    "# Signal handler\n",
    "@receiver(post_save, sender=MyModel)\n",
    "def my_signal_handler(sender, instance, **kwargs):\n",
    "    if transaction.get_connection().in_atomic_block:\n",
    "        print(\"Signal handler: Inside transaction.\")\n",
    "    else:\n",
    "        print(\"Signal handler: Outside transaction.\")\n",
    "\n",
    "# View triggering the signal\n",
    "def my_view(request):\n",
    "    with transaction.atomic():  # Start a transaction\n",
    "        MyModel.objects.create(name=\"Test\")\n",
    "        print(\"View: Object created inside transaction.\")\n",
    "\n",
    "    return HttpResponse(\"Check console for transaction info.\")"
   ]
  },
  {
   "cell_type": "markdown",
   "metadata": {},
   "source": [
    "Topic: Custom Classes in Python\n",
    "\n",
    "Description: You are tasked with creating a Rectangle class with the following requirements:\n",
    "\n",
    "An instance of the Rectangle class requires length:int and width:int to be initialized.\n",
    "We can iterate over an instance of the Rectangle class \n",
    "When an instance of the Rectangle class is iterated over, we first get its length in the format: {'length': <VALUE_OF_LENGTH>} followed by the width {width: <VALUE_OF_WIDTH>}"
   ]
  },
  {
   "cell_type": "code",
   "execution_count": null,
   "metadata": {},
   "outputs": [],
   "source": [
    "class Rectangle:\n",
    "    def __init__(self, length: int, width: int):\n",
    "        self.length = length\n",
    "        self.width = width\n",
    "    \n",
    "    # This method makes the class iterable\n",
    "    def __iter__(self):\n",
    "        # We yield the length and width in the required format\n",
    "        yield {'length': self.length}\n",
    "        yield {'width': self.width}\n",
    "\n",
    "# Example usage\n",
    "rect = Rectangle(5, 10)\n",
    "\n",
    "# Iterating over the instance\n",
    "for dimension in rect:\n",
    "    print(dimension)"
   ]
  },
  {
   "cell_type": "markdown",
   "metadata": {},
   "source": [
    "Explanation:\n",
    "* The __iter__ method is defined to make the class iterable. It uses yield to return each dimension (length first, then width) in the specified format.\n",
    "* When you iterate over an instance of Rectangle, you'll get the length first as {'length': <value>}, followed by the width as {'width': <value>}."
   ]
  }
 ],
 "metadata": {
  "kernelspec": {
   "display_name": "Python 3",
   "language": "python",
   "name": "python3"
  },
  "language_info": {
   "codemirror_mode": {
    "name": "ipython",
    "version": 3
   },
   "file_extension": ".py",
   "mimetype": "text/x-python",
   "name": "python",
   "nbconvert_exporter": "python",
   "pygments_lexer": "ipython3",
   "version": "3.11.9"
  }
 },
 "nbformat": 4,
 "nbformat_minor": 2
}
